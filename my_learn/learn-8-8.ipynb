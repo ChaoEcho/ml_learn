{
 "cells": [
  {
   "cell_type": "markdown",
   "source": [
    "# 8.8 卷积神经网络"
   ],
   "metadata": {
    "collapsed": false
   }
  },
  {
   "cell_type": "code",
   "execution_count": 3,
   "outputs": [
    {
     "name": "stdout",
     "output_type": "stream",
     "text": [
      "Found 8000 images belonging to 2 classes.\n"
     ]
    }
   ],
   "source": [
    "import numpy as np\n",
    "from keras.preprocessing.image import ImageDataGenerator\n",
    "train_datagen = ImageDataGenerator(rescale=1./255)\n",
    "\n",
    "training_set = train_datagen.flow_from_directory('D:/Resource/EchoChao/Projects/Pycharm/learing/other_learn/week8/dataset/training_set',target_size=(50,50),batch_size=32,class_mode='binary')"
   ],
   "metadata": {
    "collapsed": false,
    "ExecuteTime": {
     "end_time": "2023-08-08T05:59:17.028827300Z",
     "start_time": "2023-08-08T05:59:16.426390800Z"
    }
   }
  },
  {
   "cell_type": "code",
   "execution_count": 5,
   "outputs": [],
   "source": [
    "from keras.models import Sequential\n",
    "from keras.layers import Conv2D,MaxPool2D,Flatten,Dense\n",
    "\n",
    "model = Sequential()\n",
    "# 卷积层\n",
    "model.add(Conv2D(32,(3,3),input_shape=(50,50,3),activation='relu'))\n",
    "# 池化层\n",
    "model.add(MaxPool2D(pool_size=(2,2)))\n",
    "# 卷积层\n",
    "model.add(Conv2D(32,(3,3),activation='relu'))\n",
    "# 池化层\n",
    "model.add(MaxPool2D(pool_size=(2,2)))\n",
    "# flattening layer\n",
    "model.add(Flatten())\n",
    "# FC layer\n",
    "model.add(Dense(units=128,activation='relu'))\n",
    "model.add(Dense(units=1,activation='sigmoid'))"
   ],
   "metadata": {
    "collapsed": false,
    "ExecuteTime": {
     "end_time": "2023-08-08T06:02:54.706110Z",
     "start_time": "2023-08-08T06:02:54.604381500Z"
    }
   }
  },
  {
   "cell_type": "code",
   "execution_count": 6,
   "outputs": [],
   "source": [
    "# configure the model\n",
    "model.compile(optimizer='adam',loss='binary_crossentropy',metrics=['accuracy'])"
   ],
   "metadata": {
    "collapsed": false,
    "ExecuteTime": {
     "end_time": "2023-08-08T06:03:43.813326500Z",
     "start_time": "2023-08-08T06:03:43.636226500Z"
    }
   }
  },
  {
   "cell_type": "code",
   "execution_count": 7,
   "outputs": [
    {
     "name": "stdout",
     "output_type": "stream",
     "text": [
      "Model: \"sequential\"\n",
      "_________________________________________________________________\n",
      " Layer (type)                Output Shape              Param #   \n",
      "=================================================================\n",
      " conv2d (Conv2D)             (None, 48, 48, 32)        896       \n",
      "                                                                 \n",
      " max_pooling2d (MaxPooling2D  (None, 24, 24, 32)       0         \n",
      " )                                                               \n",
      "                                                                 \n",
      " conv2d_1 (Conv2D)           (None, 22, 22, 32)        9248      \n",
      "                                                                 \n",
      " max_pooling2d_1 (MaxPooling  (None, 11, 11, 32)       0         \n",
      " 2D)                                                             \n",
      "                                                                 \n",
      " flatten (Flatten)           (None, 3872)              0         \n",
      "                                                                 \n",
      " dense (Dense)               (None, 128)               495744    \n",
      "                                                                 \n",
      " dense_1 (Dense)             (None, 1)                 129       \n",
      "                                                                 \n",
      "=================================================================\n",
      "Total params: 506,017\n",
      "Trainable params: 506,017\n",
      "Non-trainable params: 0\n",
      "_________________________________________________________________\n"
     ]
    }
   ],
   "source": [
    "model.summary()"
   ],
   "metadata": {
    "collapsed": false,
    "ExecuteTime": {
     "end_time": "2023-08-08T06:03:49.428224400Z",
     "start_time": "2023-08-08T06:03:49.403291700Z"
    }
   }
  },
  {
   "cell_type": "code",
   "execution_count": 8,
   "outputs": [
    {
     "name": "stdout",
     "output_type": "stream",
     "text": [
      "Epoch 1/25\n"
     ]
    },
    {
     "name": "stderr",
     "output_type": "stream",
     "text": [
      "C:\\Users\\echoc\\.conda\\envs\\mooc37\\lib\\site-packages\\ipykernel_launcher.py:2: UserWarning: `Model.fit_generator` is deprecated and will be removed in a future version. Please use `Model.fit`, which supports generators.\n",
      "  \n"
     ]
    },
    {
     "name": "stdout",
     "output_type": "stream",
     "text": [
      "250/250 [==============================] - 23s 88ms/step - loss: 0.6648 - accuracy: 0.5851\n",
      "Epoch 2/25\n",
      "250/250 [==============================] - 18s 72ms/step - loss: 0.5822 - accuracy: 0.6880\n",
      "Epoch 3/25\n",
      "250/250 [==============================] - 18s 71ms/step - loss: 0.5206 - accuracy: 0.7431\n",
      "Epoch 4/25\n",
      "250/250 [==============================] - 18s 70ms/step - loss: 0.4819 - accuracy: 0.7676\n",
      "Epoch 5/25\n",
      "250/250 [==============================] - 18s 71ms/step - loss: 0.4361 - accuracy: 0.7955\n",
      "Epoch 6/25\n",
      "250/250 [==============================] - 18s 71ms/step - loss: 0.3930 - accuracy: 0.8183\n",
      "Epoch 7/25\n",
      "250/250 [==============================] - 18s 72ms/step - loss: 0.3407 - accuracy: 0.8508\n",
      "Epoch 8/25\n",
      "250/250 [==============================] - 18s 73ms/step - loss: 0.2953 - accuracy: 0.8735\n",
      "Epoch 9/25\n",
      "250/250 [==============================] - 18s 73ms/step - loss: 0.2368 - accuracy: 0.9021\n",
      "Epoch 10/25\n",
      "250/250 [==============================] - 18s 72ms/step - loss: 0.1809 - accuracy: 0.9286\n",
      "Epoch 11/25\n",
      "250/250 [==============================] - 18s 74ms/step - loss: 0.1281 - accuracy: 0.9564\n",
      "Epoch 12/25\n",
      "250/250 [==============================] - 18s 73ms/step - loss: 0.0910 - accuracy: 0.9681\n",
      "Epoch 13/25\n",
      "250/250 [==============================] - 18s 72ms/step - loss: 0.0554 - accuracy: 0.9851\n",
      "Epoch 14/25\n",
      "250/250 [==============================] - 18s 74ms/step - loss: 0.0419 - accuracy: 0.9893\n",
      "Epoch 15/25\n",
      "250/250 [==============================] - 18s 73ms/step - loss: 0.0370 - accuracy: 0.9900\n",
      "Epoch 16/25\n",
      "250/250 [==============================] - 19s 74ms/step - loss: 0.0179 - accuracy: 0.9966\n",
      "Epoch 17/25\n",
      "250/250 [==============================] - 19s 76ms/step - loss: 0.0318 - accuracy: 0.9909\n",
      "Epoch 18/25\n",
      "250/250 [==============================] - 19s 74ms/step - loss: 0.0153 - accuracy: 0.9969\n",
      "Epoch 19/25\n",
      "250/250 [==============================] - 18s 71ms/step - loss: 0.0103 - accuracy: 0.9983\n",
      "Epoch 20/25\n",
      "250/250 [==============================] - 18s 72ms/step - loss: 0.0039 - accuracy: 0.9998\n",
      "Epoch 21/25\n",
      "250/250 [==============================] - 18s 71ms/step - loss: 0.0015 - accuracy: 1.0000\n",
      "Epoch 22/25\n",
      "250/250 [==============================] - 19s 75ms/step - loss: 8.5818e-04 - accuracy: 1.0000\n",
      "Epoch 23/25\n",
      "250/250 [==============================] - 18s 73ms/step - loss: 6.0887e-04 - accuracy: 1.0000\n",
      "Epoch 24/25\n",
      "250/250 [==============================] - 18s 71ms/step - loss: 4.7762e-04 - accuracy: 1.0000\n",
      "Epoch 25/25\n",
      "250/250 [==============================] - 18s 71ms/step - loss: 3.9767e-04 - accuracy: 1.0000\n"
     ]
    },
    {
     "data": {
      "text/plain": "<keras.callbacks.History at 0x1ccf55ed148>"
     },
     "execution_count": 8,
     "metadata": {},
     "output_type": "execute_result"
    }
   ],
   "source": [
    "# train the model\n",
    "model.fit_generator(training_set,epochs=25)"
   ],
   "metadata": {
    "collapsed": false,
    "ExecuteTime": {
     "end_time": "2023-08-08T06:12:06.080493300Z",
     "start_time": "2023-08-08T06:04:27.207851700Z"
    }
   }
  },
  {
   "cell_type": "code",
   "execution_count": 10,
   "outputs": [
    {
     "name": "stderr",
     "output_type": "stream",
     "text": [
      "C:\\Users\\echoc\\.conda\\envs\\mooc37\\lib\\site-packages\\ipykernel_launcher.py:1: UserWarning: `Model.evaluate_generator` is deprecated and will be removed in a future version. Please use `Model.evaluate`, which supports generators.\n",
      "  \"\"\"Entry point for launching an IPython kernel.\n",
      "C:\\Users\\echoc\\.conda\\envs\\mooc37\\lib\\site-packages\\ipykernel_launcher.py:1: UserWarning: `Model.evaluate_generator` is deprecated and will be removed in a future version. Please use `Model.evaluate`, which supports generators.\n",
      "  \"\"\"Entry point for launching an IPython kernel.\n"
     ]
    },
    {
     "data": {
      "text/plain": "[0.000353325332980603, 1.0]"
     },
     "execution_count": 10,
     "metadata": {},
     "output_type": "execute_result"
    }
   ],
   "source": [
    "accuracy_train =model.evaluate_generator(training_set)\n",
    "accuracy_train"
   ],
   "metadata": {
    "collapsed": false,
    "ExecuteTime": {
     "end_time": "2023-08-08T06:12:34.516194500Z",
     "start_time": "2023-08-08T06:12:06.007379700Z"
    }
   }
  },
  {
   "cell_type": "code",
   "execution_count": 12,
   "outputs": [
    {
     "name": "stdout",
     "output_type": "stream",
     "text": [
      "Found 2000 images belonging to 2 classes.\n"
     ]
    },
    {
     "name": "stderr",
     "output_type": "stream",
     "text": [
      "C:\\Users\\echoc\\.conda\\envs\\mooc37\\lib\\site-packages\\ipykernel_launcher.py:3: UserWarning: `Model.evaluate_generator` is deprecated and will be removed in a future version. Please use `Model.evaluate`, which supports generators.\n",
      "  This is separate from the ipykernel package so we can avoid doing imports until\n"
     ]
    },
    {
     "data": {
      "text/plain": "[1.7650327682495117, 0.7595000267028809]"
     },
     "execution_count": 12,
     "metadata": {},
     "output_type": "execute_result"
    }
   ],
   "source": [
    "# load test img\n",
    "test_set = train_datagen.flow_from_directory('D:/Resource/EchoChao/Projects/Pycharm/learing/other_learn/week8/dataset/test_set',target_size=(50,50),batch_size=32,class_mode='binary')\n",
    "accuracy_test = model.evaluate_generator(test_set)\n",
    "accuracy_test"
   ],
   "metadata": {
    "collapsed": false,
    "ExecuteTime": {
     "end_time": "2023-08-08T06:14:18.742244300Z",
     "start_time": "2023-08-08T06:14:14.363895900Z"
    }
   }
  },
  {
   "cell_type": "code",
   "execution_count": 18,
   "outputs": [
    {
     "name": "stdout",
     "output_type": "stream",
     "text": [
      "1/1 [==============================] - 0s 19ms/step\n"
     ]
    },
    {
     "data": {
      "text/plain": "array([[1.]], dtype=float32)"
     },
     "execution_count": 18,
     "metadata": {},
     "output_type": "execute_result"
    }
   ],
   "source": [
    "# 预测随机图片\n",
    "# load single image\n",
    "import numpy as np\n",
    "from keras_preprocessing.image import load_img,img_to_array\n",
    "pic_dog = 'D:/Resource/EchoChao/Projects/Pycharm/learing/other_learn/week8/dog.jpg'\n",
    "pic_dog = load_img(pic_dog,target_size=(50,50))\n",
    "pic_dog = img_to_array(pic_dog)\n",
    "pic_dog = pic_dog/255\n",
    "pic_dog = pic_dog.reshape(1,50,50,3)\n",
    "result = model.predict(pic_dog)\n",
    "result"
   ],
   "metadata": {
    "collapsed": false,
    "ExecuteTime": {
     "end_time": "2023-08-08T06:20:18.916926200Z",
     "start_time": "2023-08-08T06:20:18.843124600Z"
    }
   }
  },
  {
   "cell_type": "code",
   "execution_count": 20,
   "outputs": [
    {
     "name": "stdout",
     "output_type": "stream",
     "text": [
      "1/1 [==============================] - 0s 18ms/step\n"
     ]
    },
    {
     "data": {
      "text/plain": "array([[0.01777554]], dtype=float32)"
     },
     "execution_count": 20,
     "metadata": {},
     "output_type": "execute_result"
    }
   ],
   "source": [
    "# 预测随机图片\n",
    "# load single image\n",
    "from keras_preprocessing.image import load_img,img_to_array\n",
    "pic_cat = 'D:/Resource/EchoChao/Projects/Pycharm/learing/other_learn/week8/cat1.jpg'\n",
    "pic_cat = load_img(pic_cat,target_size=(50,50))\n",
    "pic_cat = img_to_array(pic_cat)\n",
    "pic_cat = pic_cat/255\n",
    "pic_cat = pic_cat.reshape(1,50,50,3)\n",
    "result = model.predict(pic_cat)\n",
    "result"
   ],
   "metadata": {
    "collapsed": false,
    "ExecuteTime": {
     "end_time": "2023-08-08T06:21:04.297635700Z",
     "start_time": "2023-08-08T06:21:04.234783800Z"
    }
   }
  },
  {
   "cell_type": "code",
   "execution_count": 21,
   "outputs": [
    {
     "data": {
      "text/plain": "{'cats': 0, 'dogs': 1}"
     },
     "execution_count": 21,
     "metadata": {},
     "output_type": "execute_result"
    }
   ],
   "source": [
    "training_set.class_indices"
   ],
   "metadata": {
    "collapsed": false,
    "ExecuteTime": {
     "end_time": "2023-08-08T06:32:44.525005500Z",
     "start_time": "2023-08-08T06:32:44.489102100Z"
    }
   }
  },
  {
   "cell_type": "code",
   "execution_count": null,
   "outputs": [],
   "source": [],
   "metadata": {
    "collapsed": false
   }
  }
 ],
 "metadata": {
  "kernelspec": {
   "display_name": "Python 3",
   "language": "python",
   "name": "python3"
  },
  "language_info": {
   "codemirror_mode": {
    "name": "ipython",
    "version": 2
   },
   "file_extension": ".py",
   "mimetype": "text/x-python",
   "name": "python",
   "nbconvert_exporter": "python",
   "pygments_lexer": "ipython2",
   "version": "2.7.6"
  }
 },
 "nbformat": 4,
 "nbformat_minor": 0
}
