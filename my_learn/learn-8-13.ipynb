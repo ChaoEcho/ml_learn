{
 "cells": [
  {
   "cell_type": "markdown",
   "source": [
    "# 8.13 迁移学习/混合模型\n",
    "\n",
    "开摆好几天，感觉学一学\n",
    "\n",
    "昨天头疼一天，8.13继续重来"
   ],
   "metadata": {
    "collapsed": false
   }
  },
  {
   "cell_type": "code",
   "execution_count": 1,
   "outputs": [
    {
     "data": {
      "text/plain": "     x      y\n0 -5.0  25.00\n1 -4.9  24.01\n2 -4.8  23.04\n3 -4.7  22.09\n4 -4.6  21.16",
      "text/html": "<div>\n<style scoped>\n    .dataframe tbody tr th:only-of-type {\n        vertical-align: middle;\n    }\n\n    .dataframe tbody tr th {\n        vertical-align: top;\n    }\n\n    .dataframe thead th {\n        text-align: right;\n    }\n</style>\n<table border=\"1\" class=\"dataframe\">\n  <thead>\n    <tr style=\"text-align: right;\">\n      <th></th>\n      <th>x</th>\n      <th>y</th>\n    </tr>\n  </thead>\n  <tbody>\n    <tr>\n      <th>0</th>\n      <td>-5.0</td>\n      <td>25.00</td>\n    </tr>\n    <tr>\n      <th>1</th>\n      <td>-4.9</td>\n      <td>24.01</td>\n    </tr>\n    <tr>\n      <th>2</th>\n      <td>-4.8</td>\n      <td>23.04</td>\n    </tr>\n    <tr>\n      <th>3</th>\n      <td>-4.7</td>\n      <td>22.09</td>\n    </tr>\n    <tr>\n      <th>4</th>\n      <td>-4.6</td>\n      <td>21.16</td>\n    </tr>\n  </tbody>\n</table>\n</div>"
     },
     "execution_count": 1,
     "metadata": {},
     "output_type": "execute_result"
    }
   ],
   "source": [
    "import pandas as pd\n",
    "import numpy as np\n",
    "data = pd.read_csv('D:/Resource/EchoChao/Projects/Pycharm/learing/other_learn/week10/transfer_data.csv')\n",
    "data.head()"
   ],
   "metadata": {
    "collapsed": false,
    "ExecuteTime": {
     "end_time": "2023-08-13T06:02:47.345964500Z",
     "start_time": "2023-08-13T06:02:46.997814600Z"
    }
   }
  },
  {
   "cell_type": "code",
   "execution_count": 2,
   "outputs": [
    {
     "data": {
      "text/plain": "0   -5.0\n1   -4.9\n2   -4.8\n3   -4.7\n4   -4.6\nName: x, dtype: float64"
     },
     "execution_count": 2,
     "metadata": {},
     "output_type": "execute_result"
    }
   ],
   "source": [
    "X = data.loc[:,'x']\n",
    "y = data.loc[:,'y']\n",
    "X.head()"
   ],
   "metadata": {
    "collapsed": false,
    "ExecuteTime": {
     "end_time": "2023-08-13T06:02:47.370896900Z",
     "start_time": "2023-08-13T06:02:47.348957200Z"
    }
   }
  },
  {
   "cell_type": "code",
   "execution_count": 3,
   "outputs": [],
   "source": [
    "# 数据可视化\n",
    "from matplotlib import pyplot as plt"
   ],
   "metadata": {
    "collapsed": false,
    "ExecuteTime": {
     "end_time": "2023-08-13T06:02:48.118787100Z",
     "start_time": "2023-08-13T06:02:47.362918900Z"
    }
   }
  },
  {
   "cell_type": "code",
   "execution_count": 4,
   "outputs": [
    {
     "data": {
      "text/plain": "<Figure size 700x500 with 1 Axes>",
      "image/png": "[encoded data removed]"
     },
     "metadata": {},
     "output_type": "display_data"
    }
   ],
   "source": [
    "fig1 = plt.figure(figsize=(7,5))\n",
    "plt.scatter(X,y)\n",
    "plt.title('X vs y')\n",
    "plt.xlabel('x')\n",
    "plt.ylabel('y')\n",
    "plt.show()"
   ],
   "metadata": {
    "collapsed": false,
    "ExecuteTime": {
     "end_time": "2023-08-13T06:02:48.260410Z",
     "start_time": "2023-08-13T06:02:48.119785500Z"
    }
   }
  },
  {
   "cell_type": "code",
   "execution_count": 5,
   "outputs": [
    {
     "data": {
      "text/plain": "((101, 1), (101,))"
     },
     "execution_count": 5,
     "metadata": {},
     "output_type": "execute_result"
    }
   ],
   "source": [
    "X = np.array(X).reshape(-1,1)\n",
    "X.shape,y.shape"
   ],
   "metadata": {
    "collapsed": false,
    "ExecuteTime": {
     "end_time": "2023-08-13T06:02:48.287336600Z",
     "start_time": "2023-08-13T06:02:48.248441500Z"
    }
   }
  },
  {
   "cell_type": "code",
   "execution_count": 6,
   "outputs": [
    {
     "name": "stdout",
     "output_type": "stream",
     "text": [
      "Model: \"sequential\"\n",
      "_________________________________________________________________\n",
      " Layer (type)                Output Shape              Param #   \n",
      "=================================================================\n",
      " dense (Dense)               (None, 50)                100       \n",
      "                                                                 \n",
      " dense_1 (Dense)             (None, 50)                2550      \n",
      "                                                                 \n",
      " dense_2 (Dense)             (None, 1)                 51        \n",
      "                                                                 \n",
      "=================================================================\n",
      "Total params: 2,701\n",
      "Trainable params: 2,701\n",
      "Non-trainable params: 0\n",
      "_________________________________________________________________\n"
     ]
    }
   ],
   "source": [
    "from keras.models import Sequential\n",
    "from keras.layers import Dense\n",
    "\n",
    "model1 = Sequential()\n",
    "model1.add(Dense(units=50,input_dim=1,activation='relu'))\n",
    "model1.add(Dense(units=50,activation='relu'))\n",
    "model1.add(Dense(units=1,activation='linear'))\n",
    "model1.compile(optimizer='adam',loss='mean_squared_error')\n",
    "model1.summary()"
   ],
   "metadata": {
    "collapsed": false,
    "ExecuteTime": {
     "end_time": "2023-08-13T06:02:50.537798100Z",
     "start_time": "2023-08-13T06:02:48.262405500Z"
    }
   }
  },
  {
   "cell_type": "code",
   "execution_count": 7,
   "outputs": [
    {
     "name": "stdout",
     "output_type": "stream",
     "text": [
      "Epoch 1/400\n",
      "4/4 [==============================] - 1s 2ms/step - loss: 129.6260\n",
      "Epoch 2/400\n",
      "4/4 [==============================] - 0s 2ms/step - loss: 123.8331\n",
      "Epoch 3/400\n",
      "4/4 [==============================] - 0s 1ms/step - loss: 118.8764\n",
      "Epoch 4/400\n",
      "4/4 [==============================] - 0s 2ms/step - loss: 114.4743\n",
      "Epoch 5/400\n",
      "4/4 [==============================] - 0s 1ms/step - loss: 110.1787\n",
      "Epoch 6/400\n",
      "4/4 [==============================] - 0s 1ms/step - loss: 105.9898\n",
      "Epoch 7/400\n",
      "4/4 [==============================] - 0s 2ms/step - loss: 102.0705\n",
      "Epoch 8/400\n",
      "4/4 [==============================] - 0s 1ms/step - loss: 97.8603\n",
      "Epoch 9/400\n",
      "4/4 [==============================] - 0s 2ms/step - loss: 93.4508\n",
      "Epoch 10/400\n",
      "4/4 [==============================] - 0s 1ms/step - loss: 89.4688\n",
      "Epoch 11/400\n",
      "4/4 [==============================] - 0s 1ms/step - loss: 85.0016\n",
      "Epoch 12/400\n",
      "4/4 [==============================] - 0s 2ms/step - loss: 80.6407\n",
      "Epoch 13/400\n",
      "4/4 [==============================] - 0s 1ms/step - loss: 76.1486\n",
      "Epoch 14/400\n",
      "4/4 [==============================] - 0s 1ms/step - loss: 71.4056\n",
      "Epoch 15/400\n",
      "4/4 [==============================] - 0s 1ms/step - loss: 66.7611\n",
      "Epoch 16/400\n",
      "4/4 [==============================] - 0s 1ms/step - loss: 62.7824\n",
      "Epoch 17/400\n",
      "4/4 [==============================] - 0s 2ms/step - loss: 58.1886\n",
      "Epoch 18/400\n",
      "4/4 [==============================] - 0s 1ms/step - loss: 54.1959\n",
      "Epoch 19/400\n",
      "4/4 [==============================] - 0s 2ms/step - loss: 49.6721\n",
      "Epoch 20/400\n",
      "4/4 [==============================] - 0s 2ms/step - loss: 45.7225\n",
      "Epoch 21/400\n",
      "4/4 [==============================] - 0s 1ms/step - loss: 42.0350\n",
      "Epoch 22/400\n",
      "4/4 [==============================] - 0s 1ms/step - loss: 38.4344\n",
      "Epoch 23/400\n",
      "4/4 [==============================] - 0s 2ms/step - loss: 34.8078\n",
      "Epoch 24/400\n",
      "4/4 [==============================] - 0s 2ms/step - loss: 31.4954\n",
      "Epoch 25/400\n",
      "4/4 [==============================] - 0s 1ms/step - loss: 28.3126\n",
      "Epoch 26/400\n",
      "4/4 [==============================] - 0s 2ms/step - loss: 25.2403\n",
      "Epoch 27/400\n",
      "4/4 [==============================] - 0s 2ms/step - loss: 22.7003\n",
      "Epoch 28/400\n",
      "4/4 [==============================] - 0s 1ms/step - loss: 20.5499\n",
      "Epoch 29/400\n",
      "4/4 [==============================] - 0s 1ms/step - loss: 18.7067\n",
      "Epoch 30/400\n",
      "4/4 [==============================] - 0s 2ms/step - loss: 16.9371\n",
      "Epoch 31/400\n",
      "4/4 [==============================] - 0s 2ms/step - loss: 15.4545\n",
      "Epoch 32/400\n",
      "4/4 [==============================] - 0s 2ms/step - loss: 14.4056\n",
      "Epoch 33/400\n",
      "4/4 [==============================] - 0s 1ms/step - loss: 13.4361\n",
      "Epoch 34/400\n",
      "4/4 [==============================] - 0s 1ms/step - loss: 12.7418\n",
      "Epoch 35/400\n",
      "4/4 [==============================] - 0s 2ms/step - loss: 12.3255\n",
      "Epoch 36/400\n",
      "4/4 [==============================] - 0s 2ms/step - loss: 11.8767\n",
      "Epoch 37/400\n",
      "4/4 [==============================] - 0s 2ms/step - loss: 11.6543\n",
      "Epoch 38/400\n",
      "4/4 [==============================] - 0s 2ms/step - loss: 11.4661\n",
      "Epoch 39/400\n",
      "4/4 [==============================] - 0s 1ms/step - loss: 11.3299\n",
      "Epoch 40/400\n",
      "4/4 [==============================] - 0s 1ms/step - loss: 11.1960\n",
      "Epoch 41/400\n",
      "4/4 [==============================] - 0s 1ms/step - loss: 11.0689\n",
      "Epoch 42/400\n",
      "4/4 [==============================] - 0s 1ms/step - loss: 11.0012\n",
      "Epoch 43/400\n",
      "4/4 [==============================] - 0s 1ms/step - loss: 10.8841\n",
      "Epoch 44/400\n",
      "4/4 [==============================] - 0s 1ms/step - loss: 10.7926\n",
      "Epoch 45/400\n",
      "4/4 [==============================] - 0s 2ms/step - loss: 10.7056\n",
      "Epoch 46/400\n",
      "4/4 [==============================] - 0s 1ms/step - loss: 10.6292\n",
      "Epoch 47/400\n",
      "4/4 [==============================] - 0s 1ms/step - loss: 10.5393\n",
      "Epoch 48/400\n",
      "4/4 [==============================] - 0s 1ms/step - loss: 10.4284\n",
      "Epoch 49/400\n",
      "4/4 [==============================] - 0s 1ms/step - loss: 10.3150\n",
      "Epoch 50/400\n",
      "4/4 [==============================] - 0s 1ms/step - loss: 10.2067\n",
      "Epoch 51/400\n",
      "4/4 [==============================] - 0s 2ms/step - loss: 10.0787\n",
      "Epoch 52/400\n",
      "4/4 [==============================] - 0s 1ms/step - loss: 9.9625\n",
      "Epoch 53/400\n",
      "4/4 [==============================] - 0s 1ms/step - loss: 9.8541\n",
      "Epoch 54/400\n",
      "4/4 [==============================] - 0s 2ms/step - loss: 9.7322\n",
      "Epoch 55/400\n",
      "4/4 [==============================] - 0s 2ms/step - loss: 9.6298\n",
      "Epoch 56/400\n",
      "4/4 [==============================] - 0s 1ms/step - loss: 9.5237\n",
      "Epoch 57/400\n",
      "4/4 [==============================] - 0s 1ms/step - loss: 9.4250\n",
      "Epoch 58/400\n",
      "4/4 [==============================] - 0s 2ms/step - loss: 9.3326\n",
      "Epoch 59/400\n",
      "4/4 [==============================] - 0s 1ms/step - loss: 9.2875\n",
      "Epoch 60/400\n",
      "4/4 [==============================] - 0s 2ms/step - loss: 9.1228\n",
      "Epoch 61/400\n",
      "4/4 [==============================] - 0s 1ms/step - loss: 9.0131\n",
      "Epoch 62/400\n",
      "4/4 [==============================] - 0s 2ms/step - loss: 8.8935\n",
      "Epoch 63/400\n",
      "4/4 [==============================] - 0s 2ms/step - loss: 8.7802\n",
      "Epoch 64/400\n",
      "4/4 [==============================] - 0s 1ms/step - loss: 8.6752\n",
      "Epoch 65/400\n",
      "4/4 [==============================] - 0s 1ms/step - loss: 8.5796\n",
      "Epoch 66/400\n",
      "4/4 [==============================] - 0s 1ms/step - loss: 8.4728\n",
      "Epoch 67/400\n",
      "4/4 [==============================] - 0s 2ms/step - loss: 8.3381\n",
      "Epoch 68/400\n",
      "4/4 [==============================] - 0s 1ms/step - loss: 8.2227\n",
      "Epoch 69/400\n",
      "4/4 [==============================] - 0s 1ms/step - loss: 8.1343\n",
      "Epoch 70/400\n",
      "4/4 [==============================] - 0s 1ms/step - loss: 8.0165\n",
      "Epoch 71/400\n",
      "4/4 [==============================] - 0s 2ms/step - loss: 7.9237\n",
      "Epoch 72/400\n",
      "4/4 [==============================] - 0s 1ms/step - loss: 7.8411\n",
      "Epoch 73/400\n",
      "4/4 [==============================] - 0s 2ms/step - loss: 7.7357\n",
      "Epoch 74/400\n",
      "4/4 [==============================] - 0s 1ms/step - loss: 7.6386\n",
      "Epoch 75/400\n",
      "4/4 [==============================] - 0s 2ms/step - loss: 7.5518\n",
      "Epoch 76/400\n",
      "4/4 [==============================] - 0s 1ms/step - loss: 7.4100\n",
      "Epoch 77/400\n",
      "4/4 [==============================] - 0s 997us/step - loss: 7.3329\n",
      "Epoch 78/400\n",
      "4/4 [==============================] - 0s 1ms/step - loss: 7.1705\n",
      "Epoch 79/400\n",
      "4/4 [==============================] - 0s 2ms/step - loss: 7.0881\n",
      "Epoch 80/400\n",
      "4/4 [==============================] - 0s 2ms/step - loss: 6.9809\n",
      "Epoch 81/400\n",
      "4/4 [==============================] - 0s 1ms/step - loss: 6.8643\n",
      "Epoch 82/400\n",
      "4/4 [==============================] - 0s 1ms/step - loss: 6.7552\n",
      "Epoch 83/400\n",
      "4/4 [==============================] - 0s 1ms/step - loss: 6.6519\n",
      "Epoch 84/400\n",
      "4/4 [==============================] - 0s 2ms/step - loss: 6.5636\n",
      "Epoch 85/400\n",
      "4/4 [==============================] - 0s 1ms/step - loss: 6.5127\n",
      "Epoch 86/400\n",
      "4/4 [==============================] - 0s 998us/step - loss: 6.3967\n",
      "Epoch 87/400\n",
      "4/4 [==============================] - 0s 1ms/step - loss: 6.2819\n",
      "Epoch 88/400\n",
      "4/4 [==============================] - 0s 2ms/step - loss: 6.1757\n",
      "Epoch 89/400\n",
      "4/4 [==============================] - 0s 2ms/step - loss: 6.0642\n",
      "Epoch 90/400\n",
      "4/4 [==============================] - 0s 1ms/step - loss: 6.0069\n",
      "Epoch 91/400\n",
      "4/4 [==============================] - 0s 1ms/step - loss: 5.8866\n",
      "Epoch 92/400\n",
      "4/4 [==============================] - 0s 1ms/step - loss: 5.7963\n",
      "Epoch 93/400\n",
      "4/4 [==============================] - 0s 1ms/step - loss: 5.6890\n",
      "Epoch 94/400\n",
      "4/4 [==============================] - 0s 1ms/step - loss: 5.5764\n",
      "Epoch 95/400\n",
      "4/4 [==============================] - 0s 1ms/step - loss: 5.4934\n",
      "Epoch 96/400\n",
      "4/4 [==============================] - 0s 2ms/step - loss: 5.4252\n",
      "Epoch 97/400\n",
      "4/4 [==============================] - 0s 1ms/step - loss: 5.3160\n",
      "Epoch 98/400\n",
      "4/4 [==============================] - 0s 1ms/step - loss: 5.2437\n",
      "Epoch 99/400\n",
      "4/4 [==============================] - 0s 1ms/step - loss: 5.2058\n",
      "Epoch 100/400\n",
      "4/4 [==============================] - 0s 1ms/step - loss: 5.1010\n",
      "Epoch 101/400\n",
      "4/4 [==============================] - 0s 1ms/step - loss: 4.9908\n",
      "Epoch 102/400\n",
      "4/4 [==============================] - 0s 1ms/step - loss: 4.9335\n",
      "Epoch 103/400\n",
      "4/4 [==============================] - 0s 2ms/step - loss: 4.8678\n",
      "Epoch 104/400\n",
      "4/4 [==============================] - 0s 2ms/step - loss: 4.7776\n",
      "Epoch 105/400\n",
      "4/4 [==============================] - 0s 2ms/step - loss: 4.7057\n",
      "Epoch 106/400\n",
      "4/4 [==============================] - 0s 1ms/step - loss: 4.6571\n",
      "Epoch 107/400\n",
      "4/4 [==============================] - 0s 1ms/step - loss: 4.5638\n",
      "Epoch 108/400\n",
      "4/4 [==============================] - 0s 1ms/step - loss: 4.5286\n",
      "Epoch 109/400\n",
      "4/4 [==============================] - 0s 1ms/step - loss: 4.4824\n",
      "Epoch 110/400\n",
      "4/4 [==============================] - 0s 1ms/step - loss: 4.3827\n",
      "Epoch 111/400\n",
      "4/4 [==============================] - 0s 1ms/step - loss: 4.2798\n",
      "Epoch 112/400\n",
      "4/4 [==============================] - 0s 1ms/step - loss: 4.1841\n",
      "Epoch 113/400\n",
      "4/4 [==============================] - 0s 1ms/step - loss: 4.1435\n",
      "Epoch 114/400\n",
      "4/4 [==============================] - 0s 1ms/step - loss: 4.0844\n",
      "Epoch 115/400\n",
      "4/4 [==============================] - 0s 1ms/step - loss: 4.0228\n",
      "Epoch 116/400\n",
      "4/4 [==============================] - 0s 1ms/step - loss: 3.9719\n",
      "Epoch 117/400\n",
      "4/4 [==============================] - 0s 1ms/step - loss: 3.8944\n",
      "Epoch 118/400\n",
      "4/4 [==============================] - 0s 2ms/step - loss: 3.8364\n",
      "Epoch 119/400\n",
      "4/4 [==============================] - 0s 1ms/step - loss: 3.7779\n",
      "Epoch 120/400\n",
      "4/4 [==============================] - 0s 2ms/step - loss: 3.7262\n",
      "Epoch 121/400\n",
      "4/4 [==============================] - 0s 2ms/step - loss: 3.6578\n",
      "Epoch 122/400\n",
      "4/4 [==============================] - 0s 2ms/step - loss: 3.6022\n",
      "Epoch 123/400\n",
      "4/4 [==============================] - 0s 2ms/step - loss: 3.5599\n",
      "Epoch 124/400\n",
      "4/4 [==============================] - 0s 1ms/step - loss: 3.5049\n",
      "Epoch 125/400\n",
      "4/4 [==============================] - 0s 2ms/step - loss: 3.4439\n",
      "Epoch 126/400\n",
      "4/4 [==============================] - 0s 2ms/step - loss: 3.3887\n",
      "Epoch 127/400\n",
      "4/4 [==============================] - 0s 2ms/step - loss: 3.3742\n",
      "Epoch 128/400\n",
      "4/4 [==============================] - 0s 1ms/step - loss: 3.2997\n",
      "Epoch 129/400\n",
      "4/4 [==============================] - 0s 1ms/step - loss: 3.2462\n",
      "Epoch 130/400\n",
      "4/4 [==============================] - 0s 1ms/step - loss: 3.2288\n",
      "Epoch 131/400\n",
      "4/4 [==============================] - 0s 2ms/step - loss: 3.1851\n",
      "Epoch 132/400\n",
      "4/4 [==============================] - 0s 1ms/step - loss: 3.1280\n",
      "Epoch 133/400\n",
      "4/4 [==============================] - 0s 1ms/step - loss: 3.0975\n",
      "Epoch 134/400\n",
      "4/4 [==============================] - 0s 2ms/step - loss: 3.0991\n",
      "Epoch 135/400\n",
      "4/4 [==============================] - 0s 1ms/step - loss: 3.0779\n",
      "Epoch 136/400\n",
      "4/4 [==============================] - 0s 2ms/step - loss: 2.9717\n",
      "Epoch 137/400\n",
      "4/4 [==============================] - 0s 1ms/step - loss: 2.9015\n",
      "Epoch 138/400\n",
      "4/4 [==============================] - 0s 2ms/step - loss: 2.8669\n",
      "Epoch 139/400\n",
      "4/4 [==============================] - 0s 2ms/step - loss: 2.9201\n",
      "Epoch 140/400\n",
      "4/4 [==============================] - 0s 1ms/step - loss: 2.8586\n",
      "Epoch 141/400\n",
      "4/4 [==============================] - 0s 2ms/step - loss: 2.7848\n",
      "Epoch 142/400\n",
      "4/4 [==============================] - 0s 1ms/step - loss: 2.7334\n",
      "Epoch 143/400\n",
      "4/4 [==============================] - 0s 1ms/step - loss: 2.6969\n",
      "Epoch 144/400\n",
      "4/4 [==============================] - 0s 1ms/step - loss: 2.6612\n",
      "Epoch 145/400\n",
      "4/4 [==============================] - 0s 1ms/step - loss: 2.6109\n",
      "Epoch 146/400\n",
      "4/4 [==============================] - 0s 2ms/step - loss: 2.5931\n",
      "Epoch 147/400\n",
      "4/4 [==============================] - 0s 1ms/step - loss: 2.6231\n",
      "Epoch 148/400\n",
      "4/4 [==============================] - 0s 2ms/step - loss: 2.5555\n",
      "Epoch 149/400\n",
      "4/4 [==============================] - 0s 1ms/step - loss: 2.4961\n",
      "Epoch 150/400\n",
      "4/4 [==============================] - 0s 1ms/step - loss: 2.4513\n",
      "Epoch 151/400\n",
      "4/4 [==============================] - 0s 1ms/step - loss: 2.4851\n",
      "Epoch 152/400\n",
      "4/4 [==============================] - 0s 1ms/step - loss: 2.4642\n",
      "Epoch 153/400\n",
      "4/4 [==============================] - 0s 1ms/step - loss: 2.4151\n",
      "Epoch 154/400\n",
      "4/4 [==============================] - 0s 2ms/step - loss: 2.3424\n",
      "Epoch 155/400\n",
      "4/4 [==============================] - 0s 2ms/step - loss: 2.3191\n",
      "Epoch 156/400\n",
      "4/4 [==============================] - 0s 2ms/step - loss: 2.3359\n",
      "Epoch 157/400\n",
      "4/4 [==============================] - 0s 1ms/step - loss: 2.3118\n",
      "Epoch 158/400\n",
      "4/4 [==============================] - 0s 1ms/step - loss: 2.2612\n",
      "Epoch 159/400\n",
      "4/4 [==============================] - 0s 1ms/step - loss: 2.2330\n",
      "Epoch 160/400\n",
      "4/4 [==============================] - 0s 1ms/step - loss: 2.2083\n",
      "Epoch 161/400\n",
      "4/4 [==============================] - 0s 1ms/step - loss: 2.1645\n",
      "Epoch 162/400\n",
      "4/4 [==============================] - 0s 1ms/step - loss: 2.1615\n",
      "Epoch 163/400\n",
      "4/4 [==============================] - 0s 2ms/step - loss: 2.1877\n",
      "Epoch 164/400\n",
      "4/4 [==============================] - 0s 1ms/step - loss: 2.1972\n",
      "Epoch 165/400\n",
      "4/4 [==============================] - 0s 1ms/step - loss: 2.1172\n",
      "Epoch 166/400\n",
      "4/4 [==============================] - 0s 2ms/step - loss: 2.0408\n",
      "Epoch 167/400\n",
      "4/4 [==============================] - 0s 2ms/step - loss: 2.0090\n",
      "Epoch 168/400\n",
      "4/4 [==============================] - 0s 1ms/step - loss: 1.9724\n",
      "Epoch 169/400\n",
      "4/4 [==============================] - 0s 1ms/step - loss: 1.9478\n",
      "Epoch 170/400\n",
      "4/4 [==============================] - 0s 1ms/step - loss: 1.9485\n",
      "Epoch 171/400\n",
      "4/4 [==============================] - 0s 1ms/step - loss: 1.9296\n",
      "Epoch 172/400\n",
      "4/4 [==============================] - 0s 2ms/step - loss: 1.8984\n",
      "Epoch 173/400\n",
      "4/4 [==============================] - 0s 1ms/step - loss: 1.8423\n",
      "Epoch 174/400\n",
      "4/4 [==============================] - 0s 2ms/step - loss: 1.9120\n",
      "Epoch 175/400\n",
      "4/4 [==============================] - 0s 1ms/step - loss: 1.8809\n",
      "Epoch 176/400\n",
      "4/4 [==============================] - 0s 1ms/step - loss: 1.8049\n",
      "Epoch 177/400\n",
      "4/4 [==============================] - 0s 1ms/step - loss: 1.7685\n",
      "Epoch 178/400\n",
      "4/4 [==============================] - 0s 1ms/step - loss: 1.7857\n",
      "Epoch 179/400\n",
      "4/4 [==============================] - 0s 1ms/step - loss: 1.7766\n",
      "Epoch 180/400\n",
      "4/4 [==============================] - 0s 1ms/step - loss: 1.7598\n",
      "Epoch 181/400\n",
      "4/4 [==============================] - 0s 1ms/step - loss: 1.7239\n",
      "Epoch 182/400\n",
      "4/4 [==============================] - 0s 1ms/step - loss: 1.6764\n",
      "Epoch 183/400\n",
      "4/4 [==============================] - 0s 1ms/step - loss: 1.6345\n",
      "Epoch 184/400\n",
      "4/4 [==============================] - 0s 1ms/step - loss: 1.6055\n",
      "Epoch 185/400\n",
      "4/4 [==============================] - 0s 2ms/step - loss: 1.5767\n",
      "Epoch 186/400\n",
      "4/4 [==============================] - 0s 1ms/step - loss: 1.5939\n",
      "Epoch 187/400\n",
      "4/4 [==============================] - 0s 1ms/step - loss: 1.5867\n",
      "Epoch 188/400\n",
      "4/4 [==============================] - 0s 1ms/step - loss: 1.5400\n",
      "Epoch 189/400\n",
      "4/4 [==============================] - 0s 2ms/step - loss: 1.4946\n",
      "Epoch 190/400\n",
      "4/4 [==============================] - 0s 1ms/step - loss: 1.5035\n",
      "Epoch 191/400\n",
      "4/4 [==============================] - 0s 1ms/step - loss: 1.4967\n",
      "Epoch 192/400\n",
      "4/4 [==============================] - 0s 1ms/step - loss: 1.4850\n",
      "Epoch 193/400\n",
      "4/4 [==============================] - 0s 2ms/step - loss: 1.4437\n",
      "Epoch 194/400\n",
      "4/4 [==============================] - 0s 1ms/step - loss: 1.3967\n",
      "Epoch 195/400\n",
      "4/4 [==============================] - 0s 1ms/step - loss: 1.3785\n",
      "Epoch 196/400\n",
      "4/4 [==============================] - 0s 2ms/step - loss: 1.3773\n",
      "Epoch 197/400\n",
      "4/4 [==============================] - 0s 1ms/step - loss: 1.3900\n",
      "Epoch 198/400\n",
      "4/4 [==============================] - 0s 1ms/step - loss: 1.3388\n",
      "Epoch 199/400\n",
      "4/4 [==============================] - 0s 2ms/step - loss: 1.3128\n",
      "Epoch 200/400\n",
      "4/4 [==============================] - 0s 1ms/step - loss: 1.2749\n",
      "Epoch 201/400\n",
      "4/4 [==============================] - 0s 1ms/step - loss: 1.2636\n",
      "Epoch 202/400\n",
      "4/4 [==============================] - 0s 1ms/step - loss: 1.2674\n",
      "Epoch 203/400\n",
      "4/4 [==============================] - 0s 1ms/step - loss: 1.2607\n",
      "Epoch 204/400\n",
      "4/4 [==============================] - 0s 2ms/step - loss: 1.2284\n",
      "Epoch 205/400\n",
      "4/4 [==============================] - 0s 1ms/step - loss: 1.2027\n",
      "Epoch 206/400\n",
      "4/4 [==============================] - 0s 2ms/step - loss: 1.1981\n",
      "Epoch 207/400\n",
      "4/4 [==============================] - 0s 998us/step - loss: 1.1954\n",
      "Epoch 208/400\n",
      "4/4 [==============================] - 0s 1ms/step - loss: 1.1524\n",
      "Epoch 209/400\n",
      "4/4 [==============================] - 0s 1ms/step - loss: 1.1268\n",
      "Epoch 210/400\n",
      "4/4 [==============================] - 0s 2ms/step - loss: 1.0926\n",
      "Epoch 211/400\n",
      "4/4 [==============================] - 0s 1ms/step - loss: 1.0786\n",
      "Epoch 212/400\n",
      "4/4 [==============================] - 0s 1ms/step - loss: 1.0636\n",
      "Epoch 213/400\n",
      "4/4 [==============================] - 0s 2ms/step - loss: 1.0946\n",
      "Epoch 214/400\n",
      "4/4 [==============================] - 0s 1ms/step - loss: 1.0893\n",
      "Epoch 215/400\n",
      "4/4 [==============================] - 0s 1ms/step - loss: 1.0443\n",
      "Epoch 216/400\n",
      "4/4 [==============================] - 0s 1ms/step - loss: 1.0087\n",
      "Epoch 217/400\n",
      "4/4 [==============================] - 0s 1ms/step - loss: 1.0097\n",
      "Epoch 218/400\n",
      "4/4 [==============================] - 0s 1ms/step - loss: 0.9690\n",
      "Epoch 219/400\n",
      "4/4 [==============================] - 0s 1ms/step - loss: 0.9444\n",
      "Epoch 220/400\n",
      "4/4 [==============================] - 0s 1ms/step - loss: 0.9640\n",
      "Epoch 221/400\n",
      "4/4 [==============================] - 0s 1ms/step - loss: 0.9304\n",
      "Epoch 222/400\n",
      "4/4 [==============================] - 0s 1ms/step - loss: 0.9100\n",
      "Epoch 223/400\n",
      "4/4 [==============================] - 0s 1ms/step - loss: 0.9035\n",
      "Epoch 224/400\n",
      "4/4 [==============================] - 0s 1ms/step - loss: 0.9039\n",
      "Epoch 225/400\n",
      "4/4 [==============================] - 0s 997us/step - loss: 0.8749\n",
      "Epoch 226/400\n",
      "4/4 [==============================] - 0s 997us/step - loss: 0.8463\n",
      "Epoch 227/400\n",
      "4/4 [==============================] - 0s 2ms/step - loss: 0.8540\n",
      "Epoch 228/400\n",
      "4/4 [==============================] - 0s 997us/step - loss: 0.8294\n",
      "Epoch 229/400\n",
      "4/4 [==============================] - 0s 2ms/step - loss: 0.8083\n",
      "Epoch 230/400\n",
      "4/4 [==============================] - 0s 1ms/step - loss: 0.7679\n",
      "Epoch 231/400\n",
      "4/4 [==============================] - 0s 1ms/step - loss: 0.7647\n",
      "Epoch 232/400\n",
      "4/4 [==============================] - 0s 1ms/step - loss: 0.7488\n",
      "Epoch 233/400\n",
      "4/4 [==============================] - 0s 1ms/step - loss: 0.7481\n",
      "Epoch 234/400\n",
      "4/4 [==============================] - 0s 1ms/step - loss: 0.7360\n",
      "Epoch 235/400\n",
      "4/4 [==============================] - 0s 2ms/step - loss: 0.7626\n",
      "Epoch 236/400\n",
      "4/4 [==============================] - 0s 1ms/step - loss: 0.7292\n",
      "Epoch 237/400\n",
      "4/4 [==============================] - 0s 2ms/step - loss: 0.6837\n",
      "Epoch 238/400\n",
      "4/4 [==============================] - 0s 1ms/step - loss: 0.6659\n",
      "Epoch 239/400\n",
      "4/4 [==============================] - 0s 2ms/step - loss: 0.6584\n",
      "Epoch 240/400\n",
      "4/4 [==============================] - 0s 1ms/step - loss: 0.6621\n",
      "Epoch 241/400\n",
      "4/4 [==============================] - 0s 997us/step - loss: 0.6433\n",
      "Epoch 242/400\n",
      "4/4 [==============================] - 0s 1ms/step - loss: 0.6285\n",
      "Epoch 243/400\n",
      "4/4 [==============================] - 0s 1ms/step - loss: 0.6195\n",
      "Epoch 244/400\n",
      "4/4 [==============================] - 0s 1ms/step - loss: 0.5988\n",
      "Epoch 245/400\n",
      "4/4 [==============================] - 0s 1ms/step - loss: 0.5794\n",
      "Epoch 246/400\n",
      "4/4 [==============================] - 0s 1ms/step - loss: 0.5901\n",
      "Epoch 247/400\n",
      "4/4 [==============================] - 0s 1ms/step - loss: 0.6116\n",
      "Epoch 248/400\n",
      "4/4 [==============================] - 0s 1ms/step - loss: 0.5942\n",
      "Epoch 249/400\n",
      "4/4 [==============================] - 0s 1ms/step - loss: 0.5613\n",
      "Epoch 250/400\n",
      "4/4 [==============================] - 0s 1ms/step - loss: 0.5753\n",
      "Epoch 251/400\n",
      "4/4 [==============================] - 0s 1ms/step - loss: 0.5417\n",
      "Epoch 252/400\n",
      "4/4 [==============================] - 0s 2ms/step - loss: 0.5188\n",
      "Epoch 253/400\n",
      "4/4 [==============================] - 0s 1ms/step - loss: 0.5190\n",
      "Epoch 254/400\n",
      "4/4 [==============================] - 0s 1ms/step - loss: 0.5096\n",
      "Epoch 255/400\n",
      "4/4 [==============================] - 0s 2ms/step - loss: 0.4925\n",
      "Epoch 256/400\n",
      "4/4 [==============================] - 0s 998us/step - loss: 0.4858\n",
      "Epoch 257/400\n",
      "4/4 [==============================] - 0s 1ms/step - loss: 0.4809\n",
      "Epoch 258/400\n",
      "4/4 [==============================] - 0s 1ms/step - loss: 0.4737\n",
      "Epoch 259/400\n",
      "4/4 [==============================] - 0s 1ms/step - loss: 0.4628\n",
      "Epoch 260/400\n",
      "4/4 [==============================] - 0s 2ms/step - loss: 0.4554\n",
      "Epoch 261/400\n",
      "4/4 [==============================] - 0s 998us/step - loss: 0.4432\n",
      "Epoch 262/400\n",
      "4/4 [==============================] - 0s 1ms/step - loss: 0.4352\n",
      "Epoch 263/400\n",
      "4/4 [==============================] - 0s 1ms/step - loss: 0.4400\n",
      "Epoch 264/400\n",
      "4/4 [==============================] - 0s 1ms/step - loss: 0.4478\n",
      "Epoch 265/400\n",
      "4/4 [==============================] - 0s 1ms/step - loss: 0.4307\n",
      "Epoch 266/400\n",
      "4/4 [==============================] - 0s 2ms/step - loss: 0.4210\n",
      "Epoch 267/400\n",
      "4/4 [==============================] - 0s 1ms/step - loss: 0.4156\n",
      "Epoch 268/400\n",
      "4/4 [==============================] - 0s 2ms/step - loss: 0.4075\n",
      "Epoch 269/400\n",
      "4/4 [==============================] - 0s 1ms/step - loss: 0.4156\n",
      "Epoch 270/400\n",
      "4/4 [==============================] - 0s 1ms/step - loss: 0.4185\n",
      "Epoch 271/400\n",
      "4/4 [==============================] - 0s 1ms/step - loss: 0.4012\n",
      "Epoch 272/400\n",
      "4/4 [==============================] - 0s 1ms/step - loss: 0.3883\n",
      "Epoch 273/400\n",
      "4/4 [==============================] - 0s 1ms/step - loss: 0.3771\n",
      "Epoch 274/400\n",
      "4/4 [==============================] - 0s 1ms/step - loss: 0.3654\n",
      "Epoch 275/400\n",
      "4/4 [==============================] - 0s 1ms/step - loss: 0.3604\n",
      "Epoch 276/400\n",
      "4/4 [==============================] - 0s 2ms/step - loss: 0.3584\n",
      "Epoch 277/400\n",
      "4/4 [==============================] - 0s 1ms/step - loss: 0.3558\n",
      "Epoch 278/400\n",
      "4/4 [==============================] - 0s 997us/step - loss: 0.3448\n",
      "Epoch 279/400\n",
      "4/4 [==============================] - 0s 1ms/step - loss: 0.3503\n",
      "Epoch 280/400\n",
      "4/4 [==============================] - 0s 1ms/step - loss: 0.3586\n",
      "Epoch 281/400\n",
      "4/4 [==============================] - 0s 1ms/step - loss: 0.3637\n",
      "Epoch 282/400\n",
      "4/4 [==============================] - 0s 1ms/step - loss: 0.4272\n",
      "Epoch 283/400\n",
      "4/4 [==============================] - 0s 1ms/step - loss: 0.3805\n",
      "Epoch 284/400\n",
      "4/4 [==============================] - 0s 1ms/step - loss: 0.3181\n",
      "Epoch 285/400\n",
      "4/4 [==============================] - 0s 2ms/step - loss: 0.3423\n",
      "Epoch 286/400\n",
      "4/4 [==============================] - 0s 1ms/step - loss: 0.3557\n",
      "Epoch 287/400\n",
      "4/4 [==============================] - 0s 1ms/step - loss: 0.3248\n",
      "Epoch 288/400\n",
      "4/4 [==============================] - 0s 2ms/step - loss: 0.2960\n",
      "Epoch 289/400\n",
      "4/4 [==============================] - 0s 1ms/step - loss: 0.2942\n",
      "Epoch 290/400\n",
      "4/4 [==============================] - 0s 1ms/step - loss: 0.2908\n",
      "Epoch 291/400\n",
      "4/4 [==============================] - 0s 2ms/step - loss: 0.2832\n",
      "Epoch 292/400\n",
      "4/4 [==============================] - 0s 2ms/step - loss: 0.2747\n",
      "Epoch 293/400\n",
      "4/4 [==============================] - 0s 2ms/step - loss: 0.2889\n",
      "Epoch 294/400\n",
      "4/4 [==============================] - 0s 2ms/step - loss: 0.2890\n",
      "Epoch 295/400\n",
      "4/4 [==============================] - 0s 1ms/step - loss: 0.2691\n",
      "Epoch 296/400\n",
      "4/4 [==============================] - 0s 1ms/step - loss: 0.2650\n",
      "Epoch 297/400\n",
      "4/4 [==============================] - 0s 1ms/step - loss: 0.2631\n",
      "Epoch 298/400\n",
      "4/4 [==============================] - 0s 2ms/step - loss: 0.2564\n",
      "Epoch 299/400\n",
      "4/4 [==============================] - 0s 1ms/step - loss: 0.2574\n",
      "Epoch 300/400\n",
      "4/4 [==============================] - 0s 1ms/step - loss: 0.2529\n",
      "Epoch 301/400\n",
      "4/4 [==============================] - 0s 1ms/step - loss: 0.2430\n",
      "Epoch 302/400\n",
      "4/4 [==============================] - 0s 1ms/step - loss: 0.2423\n",
      "Epoch 303/400\n",
      "4/4 [==============================] - 0s 997us/step - loss: 0.2564\n",
      "Epoch 304/400\n",
      "4/4 [==============================] - 0s 1ms/step - loss: 0.2431\n",
      "Epoch 305/400\n",
      "4/4 [==============================] - 0s 1ms/step - loss: 0.2392\n",
      "Epoch 306/400\n",
      "4/4 [==============================] - 0s 1ms/step - loss: 0.2256\n",
      "Epoch 307/400\n",
      "4/4 [==============================] - 0s 2ms/step - loss: 0.2164\n",
      "Epoch 308/400\n",
      "4/4 [==============================] - 0s 1ms/step - loss: 0.2184\n",
      "Epoch 309/400\n",
      "4/4 [==============================] - 0s 1ms/step - loss: 0.2212\n",
      "Epoch 310/400\n",
      "4/4 [==============================] - 0s 1ms/step - loss: 0.2164\n",
      "Epoch 311/400\n",
      "4/4 [==============================] - 0s 2ms/step - loss: 0.2366\n",
      "Epoch 312/400\n",
      "4/4 [==============================] - 0s 1ms/step - loss: 0.2257\n",
      "Epoch 313/400\n",
      "4/4 [==============================] - 0s 1ms/step - loss: 0.1912\n",
      "Epoch 314/400\n",
      "4/4 [==============================] - 0s 1ms/step - loss: 0.2253\n",
      "Epoch 315/400\n",
      "4/4 [==============================] - 0s 1ms/step - loss: 0.2176\n",
      "Epoch 316/400\n",
      "4/4 [==============================] - 0s 1ms/step - loss: 0.1915\n",
      "Epoch 317/400\n",
      "4/4 [==============================] - 0s 997us/step - loss: 0.1939\n",
      "Epoch 318/400\n",
      "4/4 [==============================] - 0s 1ms/step - loss: 0.1909\n",
      "Epoch 319/400\n",
      "4/4 [==============================] - 0s 1ms/step - loss: 0.1846\n",
      "Epoch 320/400\n",
      "4/4 [==============================] - 0s 1ms/step - loss: 0.1789\n",
      "Epoch 321/400\n",
      "4/4 [==============================] - 0s 1ms/step - loss: 0.1863\n",
      "Epoch 322/400\n",
      "4/4 [==============================] - 0s 1ms/step - loss: 0.1791\n",
      "Epoch 323/400\n",
      "4/4 [==============================] - 0s 1ms/step - loss: 0.1737\n",
      "Epoch 324/400\n",
      "4/4 [==============================] - 0s 1ms/step - loss: 0.1728\n",
      "Epoch 325/400\n",
      "4/4 [==============================] - 0s 2ms/step - loss: 0.1818\n",
      "Epoch 326/400\n",
      "4/4 [==============================] - 0s 2ms/step - loss: 0.1955\n",
      "Epoch 327/400\n",
      "4/4 [==============================] - 0s 2ms/step - loss: 0.1833\n",
      "Epoch 328/400\n",
      "4/4 [==============================] - 0s 1ms/step - loss: 0.1653\n",
      "Epoch 329/400\n",
      "4/4 [==============================] - 0s 2ms/step - loss: 0.1745\n",
      "Epoch 330/400\n",
      "4/4 [==============================] - 0s 997us/step - loss: 0.1716\n",
      "Epoch 331/400\n",
      "4/4 [==============================] - 0s 1ms/step - loss: 0.1775\n",
      "Epoch 332/400\n",
      "4/4 [==============================] - 0s 1ms/step - loss: 0.2251\n",
      "Epoch 333/400\n",
      "4/4 [==============================] - 0s 1ms/step - loss: 0.1828\n",
      "Epoch 334/400\n",
      "4/4 [==============================] - 0s 997us/step - loss: 0.1541\n",
      "Epoch 335/400\n",
      "4/4 [==============================] - 0s 1ms/step - loss: 0.1672\n",
      "Epoch 336/400\n",
      "4/4 [==============================] - 0s 1ms/step - loss: 0.1603\n",
      "Epoch 337/400\n",
      "4/4 [==============================] - 0s 1ms/step - loss: 0.1549\n",
      "Epoch 338/400\n",
      "4/4 [==============================] - 0s 2ms/step - loss: 0.1869\n",
      "Epoch 339/400\n",
      "4/4 [==============================] - 0s 1ms/step - loss: 0.1686\n",
      "Epoch 340/400\n",
      "4/4 [==============================] - 0s 1ms/step - loss: 0.1420\n",
      "Epoch 341/400\n",
      "4/4 [==============================] - 0s 1ms/step - loss: 0.1392\n",
      "Epoch 342/400\n",
      "4/4 [==============================] - 0s 1ms/step - loss: 0.1627\n",
      "Epoch 343/400\n",
      "4/4 [==============================] - 0s 2ms/step - loss: 0.1529\n",
      "Epoch 344/400\n",
      "4/4 [==============================] - 0s 1ms/step - loss: 0.1315\n",
      "Epoch 345/400\n",
      "4/4 [==============================] - 0s 2ms/step - loss: 0.1481\n",
      "Epoch 346/400\n",
      "4/4 [==============================] - 0s 1ms/step - loss: 0.1284\n",
      "Epoch 347/400\n",
      "4/4 [==============================] - 0s 1ms/step - loss: 0.1331\n",
      "Epoch 348/400\n",
      "4/4 [==============================] - 0s 1ms/step - loss: 0.1383\n",
      "Epoch 349/400\n",
      "4/4 [==============================] - 0s 1ms/step - loss: 0.1308\n",
      "Epoch 350/400\n",
      "4/4 [==============================] - 0s 1ms/step - loss: 0.1227\n",
      "Epoch 351/400\n",
      "4/4 [==============================] - 0s 997us/step - loss: 0.1176\n",
      "Epoch 352/400\n",
      "4/4 [==============================] - 0s 1ms/step - loss: 0.1359\n",
      "Epoch 353/400\n",
      "4/4 [==============================] - 0s 1ms/step - loss: 0.1293\n",
      "Epoch 354/400\n",
      "4/4 [==============================] - 0s 1ms/step - loss: 0.1167\n",
      "Epoch 355/400\n",
      "4/4 [==============================] - 0s 1ms/step - loss: 0.1174\n",
      "Epoch 356/400\n",
      "4/4 [==============================] - 0s 1ms/step - loss: 0.1269\n",
      "Epoch 357/400\n",
      "4/4 [==============================] - 0s 1ms/step - loss: 0.1173\n",
      "Epoch 358/400\n",
      "4/4 [==============================] - 0s 998us/step - loss: 0.1105\n",
      "Epoch 359/400\n",
      "4/4 [==============================] - 0s 1ms/step - loss: 0.1103\n",
      "Epoch 360/400\n",
      "4/4 [==============================] - 0s 1ms/step - loss: 0.1059\n",
      "Epoch 361/400\n",
      "4/4 [==============================] - 0s 1ms/step - loss: 0.1057\n",
      "Epoch 362/400\n",
      "4/4 [==============================] - 0s 1ms/step - loss: 0.1082\n",
      "Epoch 363/400\n",
      "4/4 [==============================] - 0s 1ms/step - loss: 0.1047\n",
      "Epoch 364/400\n",
      "4/4 [==============================] - 0s 1ms/step - loss: 0.1020\n",
      "Epoch 365/400\n",
      "4/4 [==============================] - 0s 2ms/step - loss: 0.1001\n",
      "Epoch 366/400\n",
      "4/4 [==============================] - 0s 2ms/step - loss: 0.0993\n",
      "Epoch 367/400\n",
      "4/4 [==============================] - 0s 1ms/step - loss: 0.0937\n",
      "Epoch 368/400\n",
      "4/4 [==============================] - 0s 2ms/step - loss: 0.1022\n",
      "Epoch 369/400\n",
      "4/4 [==============================] - 0s 2ms/step - loss: 0.1032\n",
      "Epoch 370/400\n",
      "4/4 [==============================] - 0s 2ms/step - loss: 0.0942\n",
      "Epoch 371/400\n",
      "4/4 [==============================] - 0s 1ms/step - loss: 0.0954\n",
      "Epoch 372/400\n",
      "4/4 [==============================] - 0s 1ms/step - loss: 0.0971\n",
      "Epoch 373/400\n",
      "4/4 [==============================] - 0s 2ms/step - loss: 0.0934\n",
      "Epoch 374/400\n",
      "4/4 [==============================] - 0s 2ms/step - loss: 0.0918\n",
      "Epoch 375/400\n",
      "4/4 [==============================] - 0s 2ms/step - loss: 0.0885\n",
      "Epoch 376/400\n",
      "4/4 [==============================] - 0s 2ms/step - loss: 0.0929\n",
      "Epoch 377/400\n",
      "4/4 [==============================] - 0s 2ms/step - loss: 0.0886\n",
      "Epoch 378/400\n",
      "4/4 [==============================] - 0s 1ms/step - loss: 0.0918\n",
      "Epoch 379/400\n",
      "4/4 [==============================] - 0s 1ms/step - loss: 0.0985\n",
      "Epoch 380/400\n",
      "4/4 [==============================] - 0s 2ms/step - loss: 0.0924\n",
      "Epoch 381/400\n",
      "4/4 [==============================] - 0s 2ms/step - loss: 0.0852\n",
      "Epoch 382/400\n",
      "4/4 [==============================] - 0s 1ms/step - loss: 0.0842\n",
      "Epoch 383/400\n",
      "4/4 [==============================] - 0s 1ms/step - loss: 0.0865\n",
      "Epoch 384/400\n",
      "4/4 [==============================] - 0s 2ms/step - loss: 0.0883\n",
      "Epoch 385/400\n",
      "4/4 [==============================] - 0s 1ms/step - loss: 0.0829\n",
      "Epoch 386/400\n",
      "4/4 [==============================] - 0s 2ms/step - loss: 0.0840\n",
      "Epoch 387/400\n",
      "4/4 [==============================] - 0s 1ms/step - loss: 0.0841\n",
      "Epoch 388/400\n",
      "4/4 [==============================] - 0s 1ms/step - loss: 0.0861\n",
      "Epoch 389/400\n",
      "4/4 [==============================] - 0s 1ms/step - loss: 0.0831\n",
      "Epoch 390/400\n",
      "4/4 [==============================] - 0s 2ms/step - loss: 0.0837\n",
      "Epoch 391/400\n",
      "4/4 [==============================] - 0s 1ms/step - loss: 0.0805\n",
      "Epoch 392/400\n",
      "4/4 [==============================] - 0s 1ms/step - loss: 0.0759\n",
      "Epoch 393/400\n",
      "4/4 [==============================] - 0s 1ms/step - loss: 0.0791\n",
      "Epoch 394/400\n",
      "4/4 [==============================] - 0s 2ms/step - loss: 0.0749\n",
      "Epoch 395/400\n",
      "4/4 [==============================] - 0s 1ms/step - loss: 0.0759\n",
      "Epoch 396/400\n",
      "4/4 [==============================] - 0s 1ms/step - loss: 0.0724\n",
      "Epoch 397/400\n",
      "4/4 [==============================] - 0s 1ms/step - loss: 0.0711\n",
      "Epoch 398/400\n",
      "4/4 [==============================] - 0s 2ms/step - loss: 0.0755\n",
      "Epoch 399/400\n",
      "4/4 [==============================] - 0s 1ms/step - loss: 0.0741\n",
      "Epoch 400/400\n",
      "4/4 [==============================] - 0s 1ms/step - loss: 0.0676\n"
     ]
    },
    {
     "data": {
      "text/plain": "<keras.callbacks.History at 0x1e008966548>"
     },
     "execution_count": 7,
     "metadata": {},
     "output_type": "execute_result"
    }
   ],
   "source": [
    "model1.fit(X,y,epochs=400)"
   ],
   "metadata": {
    "collapsed": false,
    "ExecuteTime": {
     "end_time": "2023-08-13T06:02:54.091070600Z",
     "start_time": "2023-08-13T06:02:50.539791300Z"
    }
   }
  },
  {
   "cell_type": "code",
   "execution_count": 8,
   "outputs": [
    {
     "name": "stdout",
     "output_type": "stream",
     "text": [
      "4/4 [==============================] - 0s 998us/step\n"
     ]
    }
   ],
   "source": [
    "y_predict = model1.predict(X)"
   ],
   "metadata": {
    "collapsed": false,
    "ExecuteTime": {
     "end_time": "2023-08-13T06:02:54.218355800Z",
     "start_time": "2023-08-13T06:02:54.067817400Z"
    }
   }
  },
  {
   "cell_type": "code",
   "execution_count": 9,
   "outputs": [
    {
     "data": {
      "text/plain": "<Figure size 700x500 with 1 Axes>",
      "image/png": "[encoded data removed]"
     },
     "metadata": {},
     "output_type": "display_data"
    }
   ],
   "source": [
    "fig2 = plt.figure(figsize=(7,5))\n",
    "plt.scatter(X,y)\n",
    "plt.plot(X,y_predict,'r')\n",
    "plt.title('X vs y')\n",
    "plt.xlabel('x')\n",
    "plt.ylabel('y')\n",
    "plt.show()"
   ],
   "metadata": {
    "collapsed": false,
    "ExecuteTime": {
     "end_time": "2023-08-13T06:02:54.302130500Z",
     "start_time": "2023-08-13T06:02:54.192425400Z"
    }
   }
  },
  {
   "cell_type": "code",
   "execution_count": 10,
   "outputs": [
    {
     "name": "stdout",
     "output_type": "stream",
     "text": [
      "Keras weights file (<HDF5 file \"variables.h5\" (mode r+)>) saving:\n",
      "...layers\\dense\n",
      "......vars\n",
      ".........0\n",
      ".........1\n",
      "...layers\\dense_1\n",
      "......vars\n",
      ".........0\n",
      ".........1\n",
      "...layers\\dense_2\n",
      "......vars\n",
      ".........0\n",
      ".........1\n",
      "...metrics\\mean\n",
      "......vars\n",
      ".........0\n",
      ".........1\n",
      "...optimizer\n",
      "......vars\n",
      ".........0\n",
      ".........1\n",
      ".........10\n",
      ".........11\n",
      ".........12\n",
      ".........2\n",
      ".........3\n",
      ".........4\n",
      ".........5\n",
      ".........6\n",
      ".........7\n",
      ".........8\n",
      ".........9\n",
      "...vars\n",
      "Keras model archive saving:\n",
      "File Name                                             Modified             Size\n",
      "config.json                                    2023-08-13 14:02:54         1811\n",
      "metadata.json                                  2023-08-13 14:02:54           64\n",
      "variables.h5                                   2023-08-13 14:02:54        52744\n"
     ]
    },
    {
     "data": {
      "text/plain": "['model1.m']"
     },
     "execution_count": 10,
     "metadata": {},
     "output_type": "execute_result"
    }
   ],
   "source": [
    "import joblib\n",
    "joblib.dump(model1,'model1.m')"
   ],
   "metadata": {
    "collapsed": false,
    "ExecuteTime": {
     "end_time": "2023-08-13T06:02:54.379922900Z",
     "start_time": "2023-08-13T06:02:54.302130500Z"
    }
   }
  },
  {
   "cell_type": "code",
   "execution_count": 11,
   "outputs": [
    {
     "name": "stdout",
     "output_type": "stream",
     "text": [
      "Keras model archive loading:\n",
      "File Name                                             Modified             Size\n",
      "config.json                                    2023-08-13 14:02:54         1811\n",
      "metadata.json                                  2023-08-13 14:02:54           64\n",
      "variables.h5                                   2023-08-13 14:02:54        52744\n",
      "Keras weights file (<HDF5 file \"variables.h5\" (mode r)>) loading:\n",
      "...layers\\dense\n",
      "......vars\n",
      ".........0\n",
      ".........1\n",
      "...layers\\dense_1\n",
      "......vars\n",
      ".........0\n",
      ".........1\n",
      "...layers\\dense_2\n",
      "......vars\n",
      ".........0\n",
      ".........1\n",
      "...metrics\\mean\n",
      "......vars\n",
      ".........0\n",
      ".........1\n",
      "...optimizer\n",
      "......vars\n",
      ".........0\n",
      ".........1\n",
      ".........10\n",
      ".........11\n",
      ".........12\n",
      ".........2\n",
      ".........3\n",
      ".........4\n",
      ".........5\n",
      ".........6\n",
      ".........7\n",
      ".........8\n",
      ".........9\n",
      "...vars\n"
     ]
    }
   ],
   "source": [
    "model2 = joblib.load('model1.m')"
   ],
   "metadata": {
    "collapsed": false,
    "ExecuteTime": {
     "end_time": "2023-08-13T06:02:54.541491100Z",
     "start_time": "2023-08-13T06:02:54.379922900Z"
    }
   }
  },
  {
   "cell_type": "code",
   "execution_count": 12,
   "outputs": [
    {
     "data": {
      "text/plain": "    x2     y2\n0 -5.0  26.00\n1 -4.9  25.21\n2 -4.8  24.44\n3 -4.7  23.69\n4 -4.6  22.96",
      "text/html": "<div>\n<style scoped>\n    .dataframe tbody tr th:only-of-type {\n        vertical-align: middle;\n    }\n\n    .dataframe tbody tr th {\n        vertical-align: top;\n    }\n\n    .dataframe thead th {\n        text-align: right;\n    }\n</style>\n<table border=\"1\" class=\"dataframe\">\n  <thead>\n    <tr style=\"text-align: right;\">\n      <th></th>\n      <th>x2</th>\n      <th>y2</th>\n    </tr>\n  </thead>\n  <tbody>\n    <tr>\n      <th>0</th>\n      <td>-5.0</td>\n      <td>26.00</td>\n    </tr>\n    <tr>\n      <th>1</th>\n      <td>-4.9</td>\n      <td>25.21</td>\n    </tr>\n    <tr>\n      <th>2</th>\n      <td>-4.8</td>\n      <td>24.44</td>\n    </tr>\n    <tr>\n      <th>3</th>\n      <td>-4.7</td>\n      <td>23.69</td>\n    </tr>\n    <tr>\n      <th>4</th>\n      <td>-4.6</td>\n      <td>22.96</td>\n    </tr>\n  </tbody>\n</table>\n</div>"
     },
     "execution_count": 12,
     "metadata": {},
     "output_type": "execute_result"
    }
   ],
   "source": [
    "data2 = pd.read_csv('D:/Resource/EchoChao/Projects/Pycharm/learing/other_learn/week10/transfer_data2.csv')\n",
    "data2.head()"
   ],
   "metadata": {
    "collapsed": false,
    "ExecuteTime": {
     "end_time": "2023-08-13T06:02:54.565427100Z",
     "start_time": "2023-08-13T06:02:54.457716400Z"
    }
   }
  },
  {
   "cell_type": "code",
   "execution_count": 13,
   "outputs": [],
   "source": [
    "X2 = data2.loc[:,'x2']\n",
    "y2 = data2.loc[:,'y2']"
   ],
   "metadata": {
    "collapsed": false,
    "ExecuteTime": {
     "end_time": "2023-08-13T06:02:54.566424700Z",
     "start_time": "2023-08-13T06:02:54.474670100Z"
    }
   }
  },
  {
   "cell_type": "code",
   "execution_count": 14,
   "outputs": [],
   "source": [
    "X2 = np.array(X2).reshape(-1,1)"
   ],
   "metadata": {
    "collapsed": false,
    "ExecuteTime": {
     "end_time": "2023-08-13T06:02:54.603325900Z",
     "start_time": "2023-08-13T06:02:54.492622500Z"
    }
   }
  },
  {
   "cell_type": "code",
   "execution_count": 15,
   "outputs": [
    {
     "name": "stdout",
     "output_type": "stream",
     "text": [
      "4/4 [==============================] - 0s 1ms/step\n"
     ]
    }
   ],
   "source": [
    "y2_predict = model2.predict(X2)"
   ],
   "metadata": {
    "collapsed": false,
    "ExecuteTime": {
     "end_time": "2023-08-13T06:02:54.622274800Z",
     "start_time": "2023-08-13T06:02:54.506584Z"
    }
   }
  },
  {
   "cell_type": "code",
   "execution_count": 16,
   "outputs": [
    {
     "data": {
      "text/plain": "<Figure size 700x500 with 1 Axes>",
      "image/png": "[encoded data removed]"
     },
     "metadata": {},
     "output_type": "display_data"
    }
   ],
   "source": [
    "fig3 = plt.figure(figsize=(7,5))\n",
    "plt.scatter(X,y,label='data1')\n",
    "plt.scatter(X2,y2,label='data2')\n",
    "plt.plot(X,y2_predict,'r',label='predict2')\n",
    "plt.title('X vs y')\n",
    "plt.xlabel('x')\n",
    "plt.ylabel('y')\n",
    "plt.legend()\n",
    "plt.show()"
   ],
   "metadata": {
    "collapsed": false,
    "ExecuteTime": {
     "end_time": "2023-08-13T06:02:54.788829800Z",
     "start_time": "2023-08-13T06:02:54.586372100Z"
    }
   }
  },
  {
   "cell_type": "code",
   "execution_count": 22,
   "outputs": [
    {
     "name": "stdout",
     "output_type": "stream",
     "text": [
      "Epoch 1/20\n",
      "4/4 [==============================] - 0s 1ms/step - loss: 1.0754\n",
      "Epoch 2/20\n",
      "4/4 [==============================] - 0s 2ms/step - loss: 1.0025\n",
      "Epoch 3/20\n",
      "4/4 [==============================] - 0s 1ms/step - loss: 0.8443\n",
      "Epoch 4/20\n",
      "4/4 [==============================] - 0s 2ms/step - loss: 0.7578\n",
      "Epoch 5/20\n",
      "4/4 [==============================] - 0s 2ms/step - loss: 0.6831\n",
      "Epoch 6/20\n",
      "4/4 [==============================] - 0s 997us/step - loss: 0.6499\n",
      "Epoch 7/20\n",
      "4/4 [==============================] - 0s 1ms/step - loss: 0.6130\n",
      "Epoch 8/20\n",
      "4/4 [==============================] - 0s 1ms/step - loss: 0.5720\n",
      "Epoch 9/20\n",
      "4/4 [==============================] - 0s 1ms/step - loss: 0.5532\n",
      "Epoch 10/20\n",
      "4/4 [==============================] - 0s 2ms/step - loss: 0.5113\n",
      "Epoch 11/20\n",
      "4/4 [==============================] - 0s 1ms/step - loss: 0.4792\n",
      "Epoch 12/20\n",
      "4/4 [==============================] - 0s 2ms/step - loss: 0.4501\n",
      "Epoch 13/20\n",
      "4/4 [==============================] - 0s 2ms/step - loss: 0.4207\n",
      "Epoch 14/20\n",
      "4/4 [==============================] - 0s 2ms/step - loss: 0.4066\n",
      "Epoch 15/20\n",
      "4/4 [==============================] - 0s 1ms/step - loss: 0.3880\n",
      "Epoch 16/20\n",
      "4/4 [==============================] - 0s 1ms/step - loss: 0.3774\n",
      "Epoch 17/20\n",
      "4/4 [==============================] - 0s 2ms/step - loss: 0.3524\n",
      "Epoch 18/20\n",
      "4/4 [==============================] - 0s 1ms/step - loss: 0.3372\n",
      "Epoch 19/20\n",
      "4/4 [==============================] - 0s 1ms/step - loss: 0.3220\n",
      "Epoch 20/20\n",
      "4/4 [==============================] - 0s 1ms/step - loss: 0.3125\n"
     ]
    },
    {
     "data": {
      "text/plain": "<keras.callbacks.History at 0x1e023ac0e88>"
     },
     "execution_count": 22,
     "metadata": {},
     "output_type": "execute_result"
    }
   ],
   "source": [
    "model2.fit(X2,y2,epochs=20)"
   ],
   "metadata": {
    "collapsed": false,
    "ExecuteTime": {
     "end_time": "2023-08-13T06:04:04.402316800Z",
     "start_time": "2023-08-13T06:04:04.129430300Z"
    }
   }
  },
  {
   "cell_type": "code",
   "execution_count": 23,
   "outputs": [
    {
     "name": "stdout",
     "output_type": "stream",
     "text": [
      "4/4 [==============================] - 0s 997us/step\n"
     ]
    },
    {
     "data": {
      "text/plain": "<Figure size 700x500 with 1 Axes>",
      "image/png": "[encoded data removed]"
     },
     "metadata": {},
     "output_type": "display_data"
    }
   ],
   "source": [
    "y2_predict = model2.predict(X2)\n",
    "fig4 = plt.figure(figsize=(7,5))\n",
    "plt.scatter(X,y,label='data1')\n",
    "plt.scatter(X2,y2,label='data2')\n",
    "plt.plot(X,y2_predict,'r',label='predict2')\n",
    "plt.title('X vs y')\n",
    "plt.xlabel('x')\n",
    "plt.ylabel('y')\n",
    "plt.legend()\n",
    "plt.show()"
   ],
   "metadata": {
    "collapsed": false,
    "ExecuteTime": {
     "end_time": "2023-08-13T06:04:05.235751800Z",
     "start_time": "2023-08-13T06:04:05.039278300Z"
    }
   }
  },
  {
   "cell_type": "code",
   "execution_count": 25,
   "outputs": [
    {
     "name": "stdout",
     "output_type": "stream",
     "text": [
      "Found 10 images belonging to 1 classes.\n"
     ]
    }
   ],
   "source": [
    "from keras.preprocessing.image import ImageDataGenerator\n",
    "path = 'D:/Resource/EchoChao/Projects/Pycharm/learing/other_learn/week10/original_data'\n",
    "dst_path = 'gen_data'\n",
    "datagen = ImageDataGenerator(rotation_range=10,width_shift_range=0.1,height_shift_range=0.02,horizontal_flip=True,vertical_flip=True)\n",
    "\n",
    "gen = datagen.flow_from_directory(path,target_size=(224,224),batch_size=2,save_to_dir=dst_path,save_prefix='gen',save_format='jpg')\n",
    "for i in range(100):\n",
    "    gen.next()"
   ],
   "metadata": {
    "collapsed": false,
    "ExecuteTime": {
     "end_time": "2023-08-13T06:23:18.149962900Z",
     "start_time": "2023-08-13T06:23:15.803104800Z"
    }
   }
  },
  {
   "cell_type": "code",
   "execution_count": 26,
   "outputs": [
    {
     "data": {
      "text/plain": "PIL.Image.Image"
     },
     "execution_count": 26,
     "metadata": {},
     "output_type": "execute_result"
    }
   ],
   "source": [
    "# load the image\n",
    "from keras_preprocessing.image import img_to_array,load_img\n",
    "\n",
    "img_path = 'D:/Resource/EchoChao/Projects/Pycharm/learing/other_learn/week10/1.jpg'\n",
    "img = load_img(img_path,target_size=(224,224))\n",
    "type(img)"
   ],
   "metadata": {
    "collapsed": false,
    "ExecuteTime": {
     "end_time": "2023-08-13T06:25:15.092757600Z",
     "start_time": "2023-08-13T06:25:15.039898900Z"
    }
   }
  },
  {
   "cell_type": "code",
   "execution_count": 27,
   "outputs": [
    {
     "data": {
      "text/plain": "<matplotlib.image.AxesImage at 0x1e0245f84c8>"
     },
     "execution_count": 27,
     "metadata": {},
     "output_type": "execute_result"
    },
    {
     "data": {
      "text/plain": "<Figure size 500x500 with 1 Axes>",
      "image/png": "[encoded data removed]"
     },
     "metadata": {},
     "output_type": "display_data"
    }
   ],
   "source": [
    "fig1 = plt.figure(figsize=(5,5))\n",
    "plt.imshow(img)"
   ],
   "metadata": {
    "collapsed": false,
    "ExecuteTime": {
     "end_time": "2023-08-13T06:25:45.946724400Z",
     "start_time": "2023-08-13T06:25:45.761151800Z"
    }
   }
  },
  {
   "cell_type": "code",
   "execution_count": 28,
   "outputs": [
    {
     "data": {
      "text/plain": "numpy.ndarray"
     },
     "execution_count": 28,
     "metadata": {},
     "output_type": "execute_result"
    }
   ],
   "source": [
    "img = img_to_array(img)\n",
    "type(img)"
   ],
   "metadata": {
    "collapsed": false,
    "ExecuteTime": {
     "end_time": "2023-08-13T06:26:05.511061700Z",
     "start_time": "2023-08-13T06:26:05.476155300Z"
    }
   }
  },
  {
   "cell_type": "code",
   "execution_count": 30,
   "outputs": [],
   "source": [
    "from keras.applications.vgg16 import VGG16\n",
    "from keras.applications.vgg16 import preprocess_input\n",
    "\n",
    "model_vgg = VGG16(weights='imagenet',include_top=False)\n",
    "X = np.expand_dims(img,axis=0)\n",
    "X = preprocess_input(X)"
   ],
   "metadata": {
    "collapsed": false,
    "ExecuteTime": {
     "end_time": "2023-08-13T06:27:53.587282200Z",
     "start_time": "2023-08-13T06:27:53.177748700Z"
    }
   }
  },
  {
   "cell_type": "code",
   "execution_count": 31,
   "outputs": [
    {
     "name": "stdout",
     "output_type": "stream",
     "text": [
      "1/1 [==============================] - 0s 287ms/step\n"
     ]
    },
    {
     "data": {
      "text/plain": "(1, 7, 7, 512)"
     },
     "execution_count": 31,
     "metadata": {},
     "output_type": "execute_result"
    }
   ],
   "source": [
    "# 特征提取\n",
    "features = model_vgg.predict(X)\n",
    "features.shape"
   ],
   "metadata": {
    "collapsed": false,
    "ExecuteTime": {
     "end_time": "2023-08-13T06:28:22.240413Z",
     "start_time": "2023-08-13T06:28:21.906068300Z"
    }
   }
  },
  {
   "cell_type": "code",
   "execution_count": 33,
   "outputs": [
    {
     "data": {
      "text/plain": "(1, 25088)"
     },
     "execution_count": 33,
     "metadata": {},
     "output_type": "execute_result"
    }
   ],
   "source": [
    "# flatten\n",
    "\n",
    "features = features.reshape(1,-1)\n",
    "features.shape"
   ],
   "metadata": {
    "collapsed": false,
    "ExecuteTime": {
     "end_time": "2023-08-13T06:28:52.682060600Z",
     "start_time": "2023-08-13T06:28:52.660931700Z"
    }
   }
  },
  {
   "cell_type": "code",
   "execution_count": null,
   "outputs": [],
   "source": [],
   "metadata": {
    "collapsed": false
   }
  }
 ],
 "metadata": {
  "kernelspec": {
   "display_name": "Python 3",
   "language": "python",
   "name": "python3"
  },
  "language_info": {
   "codemirror_mode": {
    "name": "ipython",
    "version": 2
   },
   "file_extension": ".py",
   "mimetype": "text/x-python",
   "name": "python",
   "nbconvert_exporter": "python",
   "pygments_lexer": "ipython2",
   "version": "2.7.6"
  }
 },
 "nbformat": 4,
 "nbformat_minor": 0
}
